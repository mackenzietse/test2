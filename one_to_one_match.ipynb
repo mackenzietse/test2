{
 "cells": [
  {
   "cell_type": "markdown",
   "metadata": {
    "deletable": true,
    "editable": true
   },
   "source": [
    "# One to one match"
   ]
  },
  {
   "cell_type": "code",
   "execution_count": null,
   "metadata": {
    "collapsed": true,
    "deletable": true,
    "editable": true
   },
   "outputs": [],
   "source": [
    "import pandas as pd\n",
    "df = pd.read_csv('synthetic_evaluation_dataset_correct.csv')\n",
    "\n",
    "list('synthetic_evaluation_dataset_correct.csv')"
   ]
  },
  {
   "cell_type": "markdown",
   "metadata": {
    "deletable": true,
    "editable": true
   },
   "source": [
    "## Load synthetic dataset"
   ]
  },
  {
   "cell_type": "code",
   "execution_count": 21,
   "metadata": {
    "collapsed": true,
    "deletable": true,
    "editable": true
   },
   "outputs": [],
   "source": [
    "fields = ['policy_number',\n",
    "          'insured_name',\n",
    "          'address',\n",
    "          'postcode',\n",
    "          'inception_date',\n",
    "          'expiry_date',\n",
    "          'qbe_exposure_id',\n",
    "          'date_loss',\n",
    "          'total_damage_area_sqm',\n",
    "          'total_damage_area_sqm_int',\n",
    "          'unique_fire_id',\n",
    "          'SI_total_MD'\n",
    "          ]"
   ]
  },
  {
   "cell_type": "code",
   "execution_count": 22,
   "metadata": {
    "collapsed": false,
    "deletable": true,
    "editable": true
   },
   "outputs": [],
   "source": [
    "df = pd.read_csv('synthetic_evaluation_dataset_correct.csv', usecols=fields)"
   ]
  },
  {
   "cell_type": "markdown",
   "metadata": {
    "deletable": true,
    "editable": true
   },
   "source": [
    "### drop duplicates"
   ]
  },
  {
   "cell_type": "code",
   "execution_count": 23,
   "metadata": {
    "collapsed": false,
    "deletable": true,
    "editable": true
   },
   "outputs": [],
   "source": [
    "df1 = df.drop_duplicates(['unique_fire_id'],keep=False)"
   ]
  },
  {
   "cell_type": "code",
   "execution_count": 24,
   "metadata": {
    "collapsed": false,
    "deletable": true,
    "editable": true
   },
   "outputs": [],
   "source": [
    "df1 = df1[~df1['date_loss'].isnull()]"
   ]
  },
  {
   "cell_type": "code",
   "execution_count": 25,
   "metadata": {
    "collapsed": true,
    "deletable": true,
    "editable": true
   },
   "outputs": [],
   "source": [
    "df1 = df1[~df1['total_damage_area_sqm_int'].isin([0])]"
   ]
  },
  {
   "cell_type": "code",
   "execution_count": 26,
   "metadata": {
    "collapsed": false,
    "deletable": true,
    "editable": true
   },
   "outputs": [
    {
     "data": {
      "text/plain": [
       "1Tyne and Wear20130219                    1\n",
       "64979131London20130523                    1\n",
       "75290131London20130613                    1\n",
       "008300-14082014Norfolk20140814            1\n",
       "2253Suffolk20120523                       1\n",
       "000483-01012016London20160101             1\n",
       "2014010190Buckinghamshire20141126         1\n",
       "1506005234Lancashire20150616              1\n",
       "48011151London20150421                    1\n",
       "1Tyne and Wear20110523                    1\n",
       "125791111London20110807                   1\n",
       "41008675Durham & Darlington20130827       1\n",
       "15541_2016_GCCambridgeshire20170127       1\n",
       "21200242Essex20120104                     1\n",
       "005901-24022016Buckinghamshire20160224    1\n",
       "13541151London20150202                    1\n",
       "004845-24062014Norfolk20140624            1\n",
       "1605006918Cheshire20160517                1\n",
       "55151111West Yorkshire20111024            1\n",
       "94644131London20130717                    1\n",
       "19827Shropshire20130827                   1\n",
       "012296-08102011Norfolk20111008            1\n",
       "01524_2014_GCCambridgeshire20140505       1\n",
       "30994121London20120306                    1\n",
       "006955-11092014Cornwall20140911           1\n",
       "006829-24042014Cheshire20140424           1\n",
       "193Kent20151204                           1\n",
       "141523111London20110829                   1\n",
       "004767-19062013Avon20130619               1\n",
       "113206121London20120918                   1\n",
       "                                         ..\n",
       "087600-10072016London20160710             1\n",
       "201606575_ANNorthumberland20161230        1\n",
       "49725131London20130421                    1\n",
       "207728111London20111229                   1\n",
       "1647026913West Yorkshire20161128          1\n",
       "05576_2011_GCCambridgeshire20110908       1\n",
       "006522-30092015Gloucestershire20150930    1\n",
       "8972Suffolk20111128                       1\n",
       "41005178Nottinghamshire20130403           1\n",
       "1Tyne and Wear20161103                    1\n",
       "009678-25012016London20160125             1\n",
       "1701000932Cumbria20170104                 1\n",
       "008703-30082016North Wales20160830        1\n",
       "3501Suffolk20120620                       1\n",
       "76311151London20150618                    1\n",
       "005306-25032012Surrey20120325             1\n",
       "014804-05122014Norfolk20141205            1\n",
       "12/16040West Sussex20130206               1\n",
       "42976121London20120329                    1\n",
       "204913111London20111223                   1\n",
       "150620121London20121204                   1\n",
       "2Tyne and Wear20161029                    1\n",
       "28390131London20130305                    1\n",
       "133771131London20130926                   1\n",
       "018242-25022016North Wales20160225        1\n",
       "94325141London20140719                    1\n",
       "43678131West Yorkshire20131103            1\n",
       "10804151London20150126                    1\n",
       "1Tyne and Wear20110722                    1\n",
       "1Tyne and Wear20130421                    1\n",
       "Name: unique_fire_id, dtype: int64"
      ]
     },
     "execution_count": 26,
     "metadata": {},
     "output_type": "execute_result"
    }
   ],
   "source": [
    "df1['unique_fire_id'].value_counts()"
   ]
  },
  {
   "cell_type": "markdown",
   "metadata": {
    "deletable": true,
    "editable": true
   },
   "source": [
    "## output "
   ]
  },
  {
   "cell_type": "code",
   "execution_count": 27,
   "metadata": {
    "collapsed": false,
    "deletable": true,
    "editable": true
   },
   "outputs": [],
   "source": [
    "df1.to_csv('unique_fire.csv', index=False)"
   ]
  },
  {
   "cell_type": "code",
   "execution_count": null,
   "metadata": {
    "collapsed": true,
    "deletable": true,
    "editable": true
   },
   "outputs": [],
   "source": []
  }
 ],
 "metadata": {
  "kernelspec": {
   "display_name": "Python 2",
   "language": "python",
   "name": "python2"
  },
  "language_info": {
   "codemirror_mode": {
    "name": "ipython",
    "version": 2
   },
   "file_extension": ".py",
   "mimetype": "text/x-python",
   "name": "python",
   "nbconvert_exporter": "python",
   "pygments_lexer": "ipython2",
   "version": "2.7.13"
  }
 },
 "nbformat": 4,
 "nbformat_minor": 2
}
